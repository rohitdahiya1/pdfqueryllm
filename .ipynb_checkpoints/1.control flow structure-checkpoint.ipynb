{
 "cells": [
  {
   "cell_type": "markdown",
   "id": "122f4e32",
   "metadata": {},
   "source": [
    "# If Else Statement"
   ]
  },
  {
   "cell_type": "code",
   "execution_count": null,
   "id": "a14d80ed",
   "metadata": {},
   "outputs": [],
   "source": [
    "a = 33\n",
    "b = 200\n",
    "if b > a:\n",
    "  print(\"b is greater than a\")"
   ]
  },
  {
   "cell_type": "code",
   "execution_count": null,
   "id": "328d2108",
   "metadata": {},
   "outputs": [],
   "source": [
    "number = 10\n",
    "\n",
    "# check if number is greater than 0\n",
    "if number > 0:\n",
    "    print('Number is positive.')\n",
    "\n",
    "print('The if statement is easy')"
   ]
  },
  {
   "cell_type": "code",
   "execution_count": null,
   "id": "f0329f98",
   "metadata": {},
   "outputs": [],
   "source": [
    "number = -5\n",
    "\n",
    "# check if number is greater than 0\n",
    "if number > 0:\n",
    "    print('Number is positive.')\n",
    "\n",
    "print('The if statement is easy')"
   ]
  },
  {
   "cell_type": "code",
   "execution_count": null,
   "id": "ef49c783",
   "metadata": {},
   "outputs": [],
   "source": [
    "number = 10\n",
    "\n",
    "if number > 0:\n",
    "    print('Positive number')\n",
    "\n",
    "else:\n",
    "    print('Negative number')\n",
    "\n",
    "print('This statement is always executed')"
   ]
  },
  {
   "cell_type": "code",
   "execution_count": null,
   "id": "6f341f67",
   "metadata": {},
   "outputs": [],
   "source": [
    "#elif statement\n",
    "number = 0\n",
    "\n",
    "if number > 0:\n",
    "    print(\"Positive number\")\n",
    "\n",
    "elif number == 0:\n",
    "    print('Zero')\n",
    "else:\n",
    "    print('Negative number')\n",
    "\n",
    "print('This statement is always executed')"
   ]
  },
  {
   "cell_type": "code",
   "execution_count": null,
   "id": "7417113b",
   "metadata": {},
   "outputs": [],
   "source": [
    "#nested if else\n",
    "number = 5\n",
    "\n",
    "# outer if statement\n",
    "if (number >= 0):\n",
    "    # inner if statement\n",
    "    if number == 0:\n",
    "      print('Number is 0')\n",
    "    \n",
    "    # inner else statement\n",
    "    else:\n",
    "        print('Number is positive')\n",
    "\n",
    "# outer else statement\n",
    "else:\n",
    "    print('Number is negative')\n",
    "\n",
    "print(\"Nested if else\")\n",
    "\n",
    "# Output: Number is positive"
   ]
  },
  {
   "cell_type": "markdown",
   "id": "6685b7de",
   "metadata": {},
   "source": [
    "# For Loop "
   ]
  },
  {
   "cell_type": "code",
   "execution_count": null,
   "id": "da823e1a",
   "metadata": {},
   "outputs": [],
   "source": [
    "for x in \"banana\":\n",
    "  print(x)"
   ]
  },
  {
   "cell_type": "code",
   "execution_count": null,
   "id": "8bb773f6",
   "metadata": {},
   "outputs": [],
   "source": [
    "heisenberg_quote = \"It ceases to exist without me. No, you clearly don't know who you're talking to, so let me clue you in. I am not in danger, Skyler. I am the danger.\""
   ]
  },
  {
   "cell_type": "code",
   "execution_count": null,
   "id": "fc29b0b3",
   "metadata": {},
   "outputs": [],
   "source": [
    "words_by_walter = heisenberg_quote.split(' ')"
   ]
  },
  {
   "cell_type": "code",
   "execution_count": null,
   "id": "f74c1f52",
   "metadata": {},
   "outputs": [],
   "source": [
    "words_by_walter"
   ]
  },
  {
   "cell_type": "code",
   "execution_count": null,
   "id": "28372bd6",
   "metadata": {},
   "outputs": [],
   "source": [
    "for i in words_by_walter:\n",
    "    print(\"The word is \",i)"
   ]
  },
  {
   "cell_type": "code",
   "execution_count": null,
   "id": "3a078cb3",
   "metadata": {},
   "outputs": [],
   "source": [
    "for x in range(6):\n",
    "  print(x)"
   ]
  },
  {
   "cell_type": "code",
   "execution_count": null,
   "id": "74a902da",
   "metadata": {},
   "outputs": [],
   "source": [
    "for x in range(2, 6):\n",
    "  print(x)"
   ]
  },
  {
   "cell_type": "code",
   "execution_count": null,
   "id": "7b31dbe9",
   "metadata": {},
   "outputs": [],
   "source": [
    "for number in range(0,10,2):\n",
    "  squared_number = number**2\n",
    "  print(f\"The square of {number} is {squared_number}\")"
   ]
  },
  {
   "cell_type": "code",
   "execution_count": null,
   "id": "62bc0427",
   "metadata": {},
   "outputs": [],
   "source": [
    "x=[\"cat\",\"dog\",\"lion\",\"rabbit\"]\n",
    "for i in x:\n",
    "    print(i)"
   ]
  },
  {
   "cell_type": "code",
   "execution_count": null,
   "id": "d08b77dd",
   "metadata": {},
   "outputs": [],
   "source": [
    "x=(\"apple\",\"banana\",\"cherry\",\"mango\")\n",
    "for i in x:\n",
    "    print(i)"
   ]
  },
  {
   "cell_type": "code",
   "execution_count": null,
   "id": "16ae389e",
   "metadata": {},
   "outputs": [],
   "source": [
    "days = ('Monday' ,'Tuesday' ,'Wednesday' ,'Thursday' ,'Friday','Saturday','Sunday')\n",
    "\n",
    "for day in days:\n",
    "  print(f\"Today is {day}\")"
   ]
  },
  {
   "cell_type": "code",
   "execution_count": null,
   "id": "4a94c8c0",
   "metadata": {},
   "outputs": [],
   "source": [
    "x={\"mango\",\"banana\",\"cherry\",\"apple\"}\n",
    "for i in x:\n",
    "    print(i)"
   ]
  },
  {
   "cell_type": "code",
   "execution_count": null,
   "id": "0c897dbf",
   "metadata": {},
   "outputs": [],
   "source": [
    "colour = {\"Red\": 0, \n",
    "          \"Green\": 2, \n",
    "          \"Brown\": 4, \n",
    "          \"Orange\": 9, \n",
    "          \"Yellow\": 1}\n",
    "for key in (colour.keys()):\n",
    "    print(key)"
   ]
  },
  {
   "cell_type": "code",
   "execution_count": null,
   "id": "09e48764",
   "metadata": {},
   "outputs": [],
   "source": [
    "colour = {\"Red\": 0, \n",
    "          \"Green\": 2, \n",
    "          \"Brown\": 4, \n",
    "          \"Orange\": 9, \n",
    "          \"Yellow\": 1}\n",
    "for key in (colour.values()):\n",
    "    print(key)"
   ]
  },
  {
   "cell_type": "code",
   "execution_count": null,
   "id": "2ca22e42",
   "metadata": {},
   "outputs": [],
   "source": [
    "colour = {\"Red\": 0, \n",
    "          \"Green\": 2, \n",
    "          \"Brown\": 4, \n",
    "          \"Orange\": 9, \n",
    "          \"Yellow\": 1}\n",
    "for items in (colour.items()):\n",
    "    print(items)"
   ]
  },
  {
   "cell_type": "code",
   "execution_count": null,
   "id": "a370ba17",
   "metadata": {},
   "outputs": [],
   "source": [
    "colour = {\"Black\": 0, \n",
    "          \"Purple\": 2, \n",
    "          \"Brown\": 4, \n",
    "          \"Yellow\": 9, \n",
    "          \"Blue\": 1}\n",
    "for ind, key in enumerate(colour.keys()):\n",
    "    print(ind, key)"
   ]
  },
  {
   "cell_type": "code",
   "execution_count": null,
   "id": "47b0c9b8",
   "metadata": {},
   "outputs": [],
   "source": [
    "colour = {\"Black\": 0, \n",
    "          \"Purple\": 2, \n",
    "          \"Brown\": 4, \n",
    "          \"Yellow\": 9, \n",
    "          \"Blue\": 1}\n",
    "for ind, value in enumerate(colour.values()):\n",
    "    print(ind, value)"
   ]
  },
  {
   "cell_type": "code",
   "execution_count": null,
   "id": "9c30a351",
   "metadata": {},
   "outputs": [],
   "source": [
    "colour = {\"Black\": 0, \n",
    "          \"Purple\": 2, \n",
    "          \"Brown\": 4, \n",
    "          \"Yellow\": 9, \n",
    "          \"Blue\": 1}\n",
    "for ind, (keys, value) in enumerate(colour.items()):\n",
    "    print(ind, keys, value)"
   ]
  },
  {
   "cell_type": "code",
   "execution_count": null,
   "id": "963ca8ec",
   "metadata": {},
   "outputs": [],
   "source": [
    "x=[\"cat\",\"dog\",\"lion\",\"rabbit\"]\n",
    "for i in x:\n",
    "    print(i.upper())"
   ]
  },
  {
   "cell_type": "code",
   "execution_count": null,
   "id": "e6c64942",
   "metadata": {},
   "outputs": [],
   "source": [
    "#break statement\n",
    "animals = [\"cat\", \"dog\", \"lion\"]\n",
    "for x in animals:\n",
    "  print(x)\n",
    "  if x == \"dog\":\n",
    "    break\n"
   ]
  },
  {
   "cell_type": "code",
   "execution_count": null,
   "id": "6e2e7ca5",
   "metadata": {},
   "outputs": [],
   "source": [
    "#break statement\n",
    "fruits = [\"apple\", \"banana\", \"cherry\"]\n",
    "for x in fruits:\n",
    "  if x == \"banana\":\n",
    "    break\n",
    "  print(x)"
   ]
  },
  {
   "cell_type": "code",
   "execution_count": null,
   "id": "12d37f02",
   "metadata": {},
   "outputs": [],
   "source": [
    "#continue statement\n",
    "fruits = [\"apple\", \"banana\", \"cherry\"]\n",
    "for x in fruits:\n",
    "  if x == \"banana\":\n",
    "    continue\n",
    "  print(x) "
   ]
  },
  {
   "cell_type": "code",
   "execution_count": 3,
   "id": "ee54fd55",
   "metadata": {},
   "outputs": [
    {
     "name": "stdout",
     "output_type": "stream",
     "text": [
      "apple\n",
      "banana\n",
      "banana\n",
      "cherry\n"
     ]
    }
   ],
   "source": [
    "#pass statement\n",
    "fruits = [\"apple\", \"banana\", \"cherry\"]\n",
    "for x in fruits:\n",
    "  if x == \"banana\":\n",
    "    pass\n",
    "    print(x) \n",
    "  print(x)"
   ]
  },
  {
   "cell_type": "code",
   "execution_count": null,
   "id": "69b6caf4",
   "metadata": {},
   "outputs": [],
   "source": [
    "got_houses = ['Stark', 'Arryn', 'Baratheon', 'Tully', 'Greyjoy', 'Lannister', 'Tyrell', 'Martell', 'Targaryen']"
   ]
  },
  {
   "cell_type": "code",
   "execution_count": null,
   "id": "26895a18",
   "metadata": {},
   "outputs": [],
   "source": [
    "for i ,j in enumerate(got_houses):\n",
    "    print(\"The endex of house\",j,\"is\",i)"
   ]
  },
  {
   "cell_type": "code",
   "execution_count": null,
   "id": "5e2a5c5f",
   "metadata": {},
   "outputs": [],
   "source": [
    "# The list of numbers\n",
    "list_of_numbers = [1, 2, 4, 6, 11, 14, 17, 20]\n",
    "\n",
    "squared_numbers = []\n",
    "\n",
    "for number in list_of_numbers:\n",
    "  # Use the append method to add the numbers one by one to our list\n",
    "  squared_numbers.append(number**2)\n",
    "  # print(squared_numbers)\n",
    "\n",
    "print(f\"The list of squared numbers is {squared_numbers}\")"
   ]
  },
  {
   "cell_type": "code",
   "execution_count": null,
   "id": "642b0ce9",
   "metadata": {},
   "outputs": [],
   "source": [
    "list(zip(list_of_numbers,squared_numbers))"
   ]
  },
  {
   "cell_type": "code",
   "execution_count": null,
   "id": "dba366c6",
   "metadata": {},
   "outputs": [],
   "source": [
    "dict(zip(list_of_numbers,squared_numbers))"
   ]
  },
  {
   "cell_type": "code",
   "execution_count": null,
   "id": "59a1839e",
   "metadata": {},
   "outputs": [],
   "source": [
    "#program to filter odd numbers\n",
    "list_of_numbers=[1,2,4,6,11,14,17,20]\n",
    "even_numbers = []\n",
    "for i in list_of_numbers:\n",
    "    if i%2==0:\n",
    "        even_numbers.append(i)\n",
    "print(\"the odd numbers are\",even_numbers)"
   ]
  },
  {
   "cell_type": "code",
   "execution_count": null,
   "id": "a8ae51d6",
   "metadata": {},
   "outputs": [],
   "source": [
    "#write a program to filter odd numbers from the given list\n",
    "list_of_numbers=[1,3,4,6,11,14,17,20,31]\n",
    "\n",
    "\n",
    "\n"
   ]
  },
  {
   "cell_type": "code",
   "execution_count": null,
   "id": "639bc5a5",
   "metadata": {},
   "outputs": [],
   "source": [
    "#write a program to square the even no. and cube of odd numbers\n",
    "#program to filter odd numbers\n",
    "list_of_numbers=[1,2,4,6,11,14,17,20]\n",
    "numbers = []\n",
    "for i in list_of_numbers:\n",
    "    if i%2==0:\n",
    "        numbers.append(i**2)\n",
    "    else:\n",
    "        numbers.append(i**3)\n",
    "        \n",
    "print(\"the odd numbers are\",numbers)"
   ]
  },
  {
   "cell_type": "code",
   "execution_count": null,
   "id": "840f4fe1",
   "metadata": {},
   "outputs": [],
   "source": [
    "#nested for loop\n",
    "x = [1, 2]\n",
    "y = [4, 5]\n",
    "  \n",
    "for i in x:\n",
    "  for j in y:\n",
    "    print(i, j)"
   ]
  },
  {
   "cell_type": "code",
   "execution_count": null,
   "id": "b348b7c0",
   "metadata": {},
   "outputs": [],
   "source": [
    "for i in range(len(x)):\n",
    "  for j in range(len(y)):\n",
    "    print(i, j)"
   ]
  },
  {
   "cell_type": "code",
   "execution_count": null,
   "id": "255711c5",
   "metadata": {},
   "outputs": [],
   "source": [
    "for i in range(2,3):\n",
    "  \n",
    "    # Printing inside the outer loop\n",
    "    # Running inner loop from 1 to 10\n",
    "    for j in range(1, 11):\n",
    "  \n",
    "        # Printing inside the inner loop\n",
    "        print(i, \"*\", j, \"=\", i*j)\n",
    "    # Printing inside the outer loop\n",
    "    print()"
   ]
  },
  {
   "cell_type": "markdown",
   "id": "5a733253",
   "metadata": {},
   "source": [
    "# While Loop"
   ]
  },
  {
   "cell_type": "code",
   "execution_count": null,
   "id": "ee5069dd",
   "metadata": {},
   "outputs": [],
   "source": [
    "i = 1\n",
    "while i < 6:\n",
    "  print(i)\n",
    "  i += 1"
   ]
  },
  {
   "cell_type": "code",
   "execution_count": null,
   "id": "89544261",
   "metadata": {},
   "outputs": [],
   "source": [
    "i = 1\n",
    "while i < 6:\n",
    "  print(i)\n",
    "  i += 1\n",
    "else:\n",
    "  print(\"i is no longer less than 6\")\n",
    "print(i)"
   ]
  },
  {
   "cell_type": "code",
   "execution_count": null,
   "id": "8566fdbf",
   "metadata": {},
   "outputs": [],
   "source": [
    "age = 32\n",
    "\n",
    "# the test condition is always True\n",
    "while age > 18:\n",
    "    print('You can vote')"
   ]
  },
  {
   "cell_type": "code",
   "execution_count": 1,
   "id": "d2a697a9",
   "metadata": {},
   "outputs": [
    {
     "name": "stdout",
     "output_type": "stream",
     "text": [
      "1\n",
      "2\n",
      "3\n"
     ]
    }
   ],
   "source": [
    "#break\n",
    "i = 1\n",
    "while i < 6:\n",
    "  print(i)\n",
    "  if i == 3:\n",
    "    break\n",
    "  i += 1"
   ]
  },
  {
   "cell_type": "code",
   "execution_count": 2,
   "id": "e1daf885",
   "metadata": {},
   "outputs": [
    {
     "name": "stdout",
     "output_type": "stream",
     "text": [
      "1\n",
      "2\n",
      "4\n",
      "5\n",
      "6\n"
     ]
    }
   ],
   "source": [
    "#continue\n",
    "i = 0\n",
    "while i < 6:\n",
    "  i += 1\n",
    "  if i == 3:\n",
    "    continue\n",
    "  print(i)"
   ]
  },
  {
   "cell_type": "code",
   "execution_count": null,
   "id": "d9cbeba6",
   "metadata": {},
   "outputs": [],
   "source": []
  }
 ],
 "metadata": {
  "kernelspec": {
   "display_name": "Python 3 (ipykernel)",
   "language": "python",
   "name": "python3"
  },
  "language_info": {
   "codemirror_mode": {
    "name": "ipython",
    "version": 3
   },
   "file_extension": ".py",
   "mimetype": "text/x-python",
   "name": "python",
   "nbconvert_exporter": "python",
   "pygments_lexer": "ipython3",
   "version": "3.10.6"
  }
 },
 "nbformat": 4,
 "nbformat_minor": 5
}
