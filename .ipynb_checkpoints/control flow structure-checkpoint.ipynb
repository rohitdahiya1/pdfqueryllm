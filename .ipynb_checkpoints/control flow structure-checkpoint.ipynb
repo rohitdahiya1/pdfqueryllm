{
 "cells": [
  {
   "cell_type": "markdown",
   "id": "122f4e32",
   "metadata": {},
   "source": [
    "# If Else Statement"
   ]
  },
  {
   "cell_type": "code",
   "execution_count": 1,
   "id": "a14d80ed",
   "metadata": {},
   "outputs": [
    {
     "name": "stdout",
     "output_type": "stream",
     "text": [
      "b is greater than a\n"
     ]
    }
   ],
   "source": [
    "a = 33\n",
    "b = 200\n",
    "if b > a:\n",
    "  print(\"b is greater than a\")"
   ]
  },
  {
   "cell_type": "code",
   "execution_count": 2,
   "id": "328d2108",
   "metadata": {},
   "outputs": [
    {
     "name": "stdout",
     "output_type": "stream",
     "text": [
      "Number is positive.\n",
      "The if statement is easy\n"
     ]
    }
   ],
   "source": [
    "number = 10\n",
    "\n",
    "# check if number is greater than 0\n",
    "if number > 0:\n",
    "    print('Number is positive.')\n",
    "\n",
    "print('The if statement is easy')"
   ]
  },
  {
   "cell_type": "code",
   "execution_count": 3,
   "id": "f0329f98",
   "metadata": {},
   "outputs": [
    {
     "name": "stdout",
     "output_type": "stream",
     "text": [
      "The if statement is easy\n"
     ]
    }
   ],
   "source": [
    "number = -5\n",
    "\n",
    "# check if number is greater than 0\n",
    "if number > 0:\n",
    "    print('Number is positive.')\n",
    "\n",
    "print('The if statement is easy')"
   ]
  },
  {
   "cell_type": "code",
   "execution_count": 4,
   "id": "ef49c783",
   "metadata": {},
   "outputs": [
    {
     "name": "stdout",
     "output_type": "stream",
     "text": [
      "Positive number\n",
      "This statement is always executed\n"
     ]
    }
   ],
   "source": [
    "number = 10\n",
    "\n",
    "if number > 0:\n",
    "    print('Positive number')\n",
    "\n",
    "else:\n",
    "    print('Negative number')\n",
    "\n",
    "print('This statement is always executed')"
   ]
  },
  {
   "cell_type": "code",
   "execution_count": 5,
   "id": "6f341f67",
   "metadata": {},
   "outputs": [
    {
     "name": "stdout",
     "output_type": "stream",
     "text": [
      "Zero\n",
      "This statement is always executed\n"
     ]
    }
   ],
   "source": [
    "#elif statement\n",
    "number = 0\n",
    "\n",
    "if number > 0:\n",
    "    print(\"Positive number\")\n",
    "\n",
    "elif number == 0:\n",
    "    print('Zero')\n",
    "else:\n",
    "    print('Negative number')\n",
    "\n",
    "print('This statement is always executed')"
   ]
  },
  {
   "cell_type": "code",
   "execution_count": 6,
   "id": "7417113b",
   "metadata": {},
   "outputs": [
    {
     "name": "stdout",
     "output_type": "stream",
     "text": [
      "Number is positive\n",
      "Nested if else\n"
     ]
    }
   ],
   "source": [
    "#nested if else\n",
    "number = 5\n",
    "\n",
    "# outer if statement\n",
    "if (number >= 0):\n",
    "    # inner if statement\n",
    "    if number == 0:\n",
    "      print('Number is 0')\n",
    "    \n",
    "    # inner else statement\n",
    "    else:\n",
    "        print('Number is positive')\n",
    "\n",
    "# outer else statement\n",
    "else:\n",
    "    print('Number is negative')\n",
    "\n",
    "print(\"Nested if else\")\n",
    "\n",
    "# Output: Number is positive"
   ]
  },
  {
   "cell_type": "markdown",
   "id": "6685b7de",
   "metadata": {},
   "source": [
    "# For Loop "
   ]
  },
  {
   "cell_type": "code",
   "execution_count": 7,
   "id": "da823e1a",
   "metadata": {},
   "outputs": [
    {
     "name": "stdout",
     "output_type": "stream",
     "text": [
      "b\n",
      "a\n",
      "n\n",
      "a\n",
      "n\n",
      "a\n"
     ]
    }
   ],
   "source": [
    "for x in \"banana\":\n",
    "  print(x)"
   ]
  },
  {
   "cell_type": "code",
   "execution_count": 40,
   "id": "8bb773f6",
   "metadata": {},
   "outputs": [],
   "source": [
    "heisenberg_quote = \"It ceases to exist without me. No, you clearly don't know who you're talking to, so let me clue you in. I am not in danger, Skyler. I am the danger.\""
   ]
  },
  {
   "cell_type": "code",
   "execution_count": 41,
   "id": "fc29b0b3",
   "metadata": {},
   "outputs": [],
   "source": [
    "words_by_walter = heisenberg_quote.split(' ')"
   ]
  },
  {
   "cell_type": "code",
   "execution_count": 42,
   "id": "f74c1f52",
   "metadata": {},
   "outputs": [
    {
     "data": {
      "text/plain": [
       "['It',\n",
       " 'ceases',\n",
       " 'to',\n",
       " 'exist',\n",
       " 'without',\n",
       " 'me.',\n",
       " 'No,',\n",
       " 'you',\n",
       " 'clearly',\n",
       " \"don't\",\n",
       " 'know',\n",
       " 'who',\n",
       " \"you're\",\n",
       " 'talking',\n",
       " 'to,',\n",
       " 'so',\n",
       " 'let',\n",
       " 'me',\n",
       " 'clue',\n",
       " 'you',\n",
       " 'in.',\n",
       " 'I',\n",
       " 'am',\n",
       " 'not',\n",
       " 'in',\n",
       " 'danger,',\n",
       " 'Skyler.',\n",
       " 'I',\n",
       " 'am',\n",
       " 'the',\n",
       " 'danger.']"
      ]
     },
     "execution_count": 42,
     "metadata": {},
     "output_type": "execute_result"
    }
   ],
   "source": [
    "words_by_walter"
   ]
  },
  {
   "cell_type": "code",
   "execution_count": 44,
   "id": "28372bd6",
   "metadata": {},
   "outputs": [
    {
     "name": "stdout",
     "output_type": "stream",
     "text": [
      "The word is  It\n",
      "The word is  ceases\n",
      "The word is  to\n",
      "The word is  exist\n",
      "The word is  without\n",
      "The word is  me.\n",
      "The word is  No,\n",
      "The word is  you\n",
      "The word is  clearly\n",
      "The word is  don't\n",
      "The word is  know\n",
      "The word is  who\n",
      "The word is  you're\n",
      "The word is  talking\n",
      "The word is  to,\n",
      "The word is  so\n",
      "The word is  let\n",
      "The word is  me\n",
      "The word is  clue\n",
      "The word is  you\n",
      "The word is  in.\n",
      "The word is  I\n",
      "The word is  am\n",
      "The word is  not\n",
      "The word is  in\n",
      "The word is  danger,\n",
      "The word is  Skyler.\n",
      "The word is  I\n",
      "The word is  am\n",
      "The word is  the\n",
      "The word is  danger.\n"
     ]
    }
   ],
   "source": [
    "for i in words_by_walter:\n",
    "    print(\"The word is \",i)"
   ]
  },
  {
   "cell_type": "code",
   "execution_count": 8,
   "id": "3a078cb3",
   "metadata": {},
   "outputs": [
    {
     "name": "stdout",
     "output_type": "stream",
     "text": [
      "0\n",
      "1\n",
      "2\n",
      "3\n",
      "4\n",
      "5\n"
     ]
    }
   ],
   "source": [
    "for x in range(6):\n",
    "  print(x)"
   ]
  },
  {
   "cell_type": "code",
   "execution_count": 9,
   "id": "74a902da",
   "metadata": {},
   "outputs": [
    {
     "name": "stdout",
     "output_type": "stream",
     "text": [
      "2\n",
      "3\n",
      "4\n",
      "5\n"
     ]
    }
   ],
   "source": [
    "for x in range(2, 6):\n",
    "  print(x)"
   ]
  },
  {
   "cell_type": "code",
   "execution_count": 38,
   "id": "7b31dbe9",
   "metadata": {},
   "outputs": [
    {
     "name": "stdout",
     "output_type": "stream",
     "text": [
      "The square of 0 is 0\n",
      "The square of 2 is 4\n",
      "The square of 4 is 16\n",
      "The square of 6 is 36\n",
      "The square of 8 is 64\n"
     ]
    }
   ],
   "source": [
    "for number in range(0,10,2):\n",
    "  squared_number = number**2\n",
    "  print(f\"The square of {number} is {squared_number}\")"
   ]
  },
  {
   "cell_type": "code",
   "execution_count": 11,
   "id": "62bc0427",
   "metadata": {},
   "outputs": [
    {
     "name": "stdout",
     "output_type": "stream",
     "text": [
      "apple\n",
      "banana\n",
      "cherry\n",
      "mango\n"
     ]
    }
   ],
   "source": [
    "x=[\"apple\",\"banana\",\"cherry\",\"mango\"]\n",
    "for i in x:\n",
    "    print(i)"
   ]
  },
  {
   "cell_type": "code",
   "execution_count": 20,
   "id": "d08b77dd",
   "metadata": {},
   "outputs": [
    {
     "name": "stdout",
     "output_type": "stream",
     "text": [
      "apple\n",
      "banana\n",
      "cherry\n",
      "mango\n"
     ]
    }
   ],
   "source": [
    "x=(\"apple\",\"banana\",\"cherry\",\"mango\")\n",
    "for i in x:\n",
    "    print(i)"
   ]
  },
  {
   "cell_type": "code",
   "execution_count": 39,
   "id": "16ae389e",
   "metadata": {},
   "outputs": [
    {
     "name": "stdout",
     "output_type": "stream",
     "text": [
      "Today is Monday\n",
      "Today is Tuesday\n",
      "Today is Wednesday\n",
      "Today is Thursday\n",
      "Today is Friday\n",
      "Today is Saturday\n",
      "Today is Sunday\n"
     ]
    }
   ],
   "source": [
    "days = ('Monday' ,'Tuesday' ,'Wednesday' ,'Thursday' ,'Friday','Saturday','Sunday')\n",
    "\n",
    "for day in days:\n",
    "  print(f\"Today is {day}\")"
   ]
  },
  {
   "cell_type": "code",
   "execution_count": 21,
   "id": "4a94c8c0",
   "metadata": {},
   "outputs": [
    {
     "name": "stdout",
     "output_type": "stream",
     "text": [
      "apple\n",
      "banana\n",
      "mango\n",
      "cherry\n"
     ]
    }
   ],
   "source": [
    "x={\"apple\",\"banana\",\"cherry\",\"mango\"}\n",
    "for i in x:\n",
    "    print(i)"
   ]
  },
  {
   "cell_type": "code",
   "execution_count": 22,
   "id": "0c897dbf",
   "metadata": {},
   "outputs": [
    {
     "name": "stdout",
     "output_type": "stream",
     "text": [
      "Black\n",
      "Purple\n",
      "Brown\n",
      "Yellow\n",
      "Blue\n"
     ]
    }
   ],
   "source": [
    "colour = {\"Black\": 0, \n",
    "          \"Purple\": 2, \n",
    "          \"Brown\": 4, \n",
    "          \"Yellow\": 9, \n",
    "          \"Blue\": 1}\n",
    "for key in (colour.keys()):\n",
    "    print(key)"
   ]
  },
  {
   "cell_type": "code",
   "execution_count": 23,
   "id": "09e48764",
   "metadata": {},
   "outputs": [
    {
     "name": "stdout",
     "output_type": "stream",
     "text": [
      "0\n",
      "2\n",
      "4\n",
      "9\n",
      "1\n"
     ]
    }
   ],
   "source": [
    "colour = {\"Black\": 0, \n",
    "          \"Purple\": 2, \n",
    "          \"Brown\": 4, \n",
    "          \"Yellow\": 9, \n",
    "          \"Blue\": 1}\n",
    "for key in (colour.values()):\n",
    "    print(key)"
   ]
  },
  {
   "cell_type": "code",
   "execution_count": 24,
   "id": "2ca22e42",
   "metadata": {},
   "outputs": [
    {
     "name": "stdout",
     "output_type": "stream",
     "text": [
      "('Black', 0)\n",
      "('Purple', 2)\n",
      "('Brown', 4)\n",
      "('Yellow', 9)\n",
      "('Blue', 1)\n"
     ]
    }
   ],
   "source": [
    "colour = {\"Black\": 0, \n",
    "          \"Purple\": 2, \n",
    "          \"Brown\": 4, \n",
    "          \"Yellow\": 9, \n",
    "          \"Blue\": 1}\n",
    "for items in (colour.items()):\n",
    "    print(items)"
   ]
  },
  {
   "cell_type": "code",
   "execution_count": 25,
   "id": "a370ba17",
   "metadata": {},
   "outputs": [
    {
     "name": "stdout",
     "output_type": "stream",
     "text": [
      "0 Black\n",
      "1 Purple\n",
      "2 Brown\n",
      "3 Yellow\n",
      "4 Blue\n"
     ]
    }
   ],
   "source": [
    "colour = {\"Black\": 0, \n",
    "          \"Purple\": 2, \n",
    "          \"Brown\": 4, \n",
    "          \"Yellow\": 9, \n",
    "          \"Blue\": 1}\n",
    "for ind, key in enumerate(colour.keys()):\n",
    "    print(ind, key)"
   ]
  },
  {
   "cell_type": "code",
   "execution_count": 26,
   "id": "47b0c9b8",
   "metadata": {},
   "outputs": [
    {
     "name": "stdout",
     "output_type": "stream",
     "text": [
      "0 0\n",
      "1 2\n",
      "2 4\n",
      "3 9\n",
      "4 1\n"
     ]
    }
   ],
   "source": [
    "colour = {\"Black\": 0, \n",
    "          \"Purple\": 2, \n",
    "          \"Brown\": 4, \n",
    "          \"Yellow\": 9, \n",
    "          \"Blue\": 1}\n",
    "for ind, value in enumerate(colour.values()):\n",
    "    print(ind, value)"
   ]
  },
  {
   "cell_type": "code",
   "execution_count": 27,
   "id": "9c30a351",
   "metadata": {},
   "outputs": [
    {
     "name": "stdout",
     "output_type": "stream",
     "text": [
      "0 Black 0\n",
      "1 Purple 2\n",
      "2 Brown 4\n",
      "3 Yellow 9\n",
      "4 Blue 1\n"
     ]
    }
   ],
   "source": [
    "colour = {\"Black\": 0, \n",
    "          \"Purple\": 2, \n",
    "          \"Brown\": 4, \n",
    "          \"Yellow\": 9, \n",
    "          \"Blue\": 1}\n",
    "for ind, (keys, value) in enumerate(colour.items()):\n",
    "    print(ind, keys, value)"
   ]
  },
  {
   "cell_type": "code",
   "execution_count": 12,
   "id": "963ca8ec",
   "metadata": {},
   "outputs": [
    {
     "name": "stdout",
     "output_type": "stream",
     "text": [
      "APPLE\n",
      "BANANA\n",
      "CHERRY\n",
      "MANGO\n"
     ]
    }
   ],
   "source": [
    "x=[\"apple\",\"banana\",\"cherry\",\"mango\"]\n",
    "for i in x:\n",
    "    print(i.upper())"
   ]
  },
  {
   "cell_type": "code",
   "execution_count": 13,
   "id": "e6c64942",
   "metadata": {},
   "outputs": [
    {
     "name": "stdout",
     "output_type": "stream",
     "text": [
      "apple\n",
      "banana\n"
     ]
    }
   ],
   "source": [
    "#break statement\n",
    "fruits = [\"apple\", \"banana\", \"cherry\"]\n",
    "for x in fruits:\n",
    "  print(x)\n",
    "  if x == \"banana\":\n",
    "    break\n"
   ]
  },
  {
   "cell_type": "code",
   "execution_count": 14,
   "id": "6e2e7ca5",
   "metadata": {},
   "outputs": [
    {
     "name": "stdout",
     "output_type": "stream",
     "text": [
      "apple\n"
     ]
    }
   ],
   "source": [
    "#break statement\n",
    "fruits = [\"apple\", \"banana\", \"cherry\"]\n",
    "for x in fruits:\n",
    "  if x == \"banana\":\n",
    "    break\n",
    "  print(x)"
   ]
  },
  {
   "cell_type": "code",
   "execution_count": 15,
   "id": "12d37f02",
   "metadata": {},
   "outputs": [
    {
     "name": "stdout",
     "output_type": "stream",
     "text": [
      "apple\n",
      "cherry\n"
     ]
    }
   ],
   "source": [
    "#continue statement\n",
    "fruits = [\"apple\", \"banana\", \"cherry\"]\n",
    "for x in fruits:\n",
    "  if x == \"banana\":\n",
    "    continue\n",
    "  print(x) "
   ]
  },
  {
   "cell_type": "code",
   "execution_count": 50,
   "id": "69b6caf4",
   "metadata": {},
   "outputs": [],
   "source": [
    "got_houses = ['Stark', 'Arryn', 'Baratheon', 'Tully', 'Greyjoy', 'Lannister', 'Tyrell', 'Martell', 'Targaryen']"
   ]
  },
  {
   "cell_type": "code",
   "execution_count": 51,
   "id": "26895a18",
   "metadata": {},
   "outputs": [
    {
     "name": "stdout",
     "output_type": "stream",
     "text": [
      "The endex of house Stark is 0\n",
      "The endex of house Arryn is 1\n",
      "The endex of house Baratheon is 2\n",
      "The endex of house Tully is 3\n",
      "The endex of house Greyjoy is 4\n",
      "The endex of house Lannister is 5\n",
      "The endex of house Tyrell is 6\n",
      "The endex of house Martell is 7\n",
      "The endex of house Targaryen is 8\n"
     ]
    }
   ],
   "source": [
    "for i ,j in enumerate(got_houses):\n",
    "    print(\"The endex of house\",j,\"is\",i)"
   ]
  },
  {
   "cell_type": "code",
   "execution_count": 52,
   "id": "5e2a5c5f",
   "metadata": {},
   "outputs": [
    {
     "name": "stdout",
     "output_type": "stream",
     "text": [
      "The list of squared numbers is [1, 4, 16, 36, 121, 196, 289, 400]\n"
     ]
    }
   ],
   "source": [
    "# The list of numbers\n",
    "list_of_numbers = [1, 2, 4, 6, 11, 14, 17, 20]\n",
    "\n",
    "squared_numbers = []\n",
    "\n",
    "for number in list_of_numbers:\n",
    "  # Use the append method to add the numbers one by one to our list\n",
    "  squared_numbers.append(number**2)\n",
    "  # print(squared_numbers)\n",
    "\n",
    "print(f\"The list of squared numbers is {squared_numbers}\")"
   ]
  },
  {
   "cell_type": "code",
   "execution_count": 55,
   "id": "642b0ce9",
   "metadata": {},
   "outputs": [
    {
     "data": {
      "text/plain": [
       "[(1, 1), (2, 4), (4, 16), (6, 36), (11, 121), (14, 196), (17, 289), (20, 400)]"
      ]
     },
     "execution_count": 55,
     "metadata": {},
     "output_type": "execute_result"
    }
   ],
   "source": [
    "list(zip(list_of_numbers,squared_numbers))"
   ]
  },
  {
   "cell_type": "code",
   "execution_count": 56,
   "id": "dba366c6",
   "metadata": {},
   "outputs": [
    {
     "data": {
      "text/plain": [
       "{1: 1, 2: 4, 4: 16, 6: 36, 11: 121, 14: 196, 17: 289, 20: 400}"
      ]
     },
     "execution_count": 56,
     "metadata": {},
     "output_type": "execute_result"
    }
   ],
   "source": [
    "dict(zip(list_of_numbers,squared_numbers))"
   ]
  },
  {
   "cell_type": "code",
   "execution_count": 46,
   "id": "59a1839e",
   "metadata": {},
   "outputs": [
    {
     "name": "stdout",
     "output_type": "stream",
     "text": [
      "the odd numbers are [2, 4, 6, 14, 20]\n"
     ]
    }
   ],
   "source": [
    "#program to filter odd numbers\n",
    "list_of_numbers=[1,2,4,6,11,14,17,20]\n",
    "even_numbers = []\n",
    "for i in list_of_numbers:\n",
    "    if i%2==0:\n",
    "        even_numbers.append(i)\n",
    "print(\"the odd numbers are\",even_numbers)"
   ]
  },
  {
   "cell_type": "code",
   "execution_count": null,
   "id": "a8ae51d6",
   "metadata": {},
   "outputs": [],
   "source": [
    "#write a program to filter odd numbers from the given list\n",
    "list_of_numbers=[1,3,4,6,11,14,17,20,31]\n",
    "\n",
    "\n",
    "\n"
   ]
  },
  {
   "cell_type": "code",
   "execution_count": 48,
   "id": "639bc5a5",
   "metadata": {},
   "outputs": [
    {
     "name": "stdout",
     "output_type": "stream",
     "text": [
      "the odd numbers are [1, 4, 16, 36, 1331, 196, 4913, 400]\n"
     ]
    }
   ],
   "source": [
    "#write a program to square the even no. and cube of odd numbers\n",
    "#program to filter odd numbers\n",
    "list_of_numbers=[1,2,4,6,11,14,17,20]\n",
    "numbers = []\n",
    "for i in list_of_numbers:\n",
    "    if i%2==0:\n",
    "        numbers.append(i**2)\n",
    "    else:\n",
    "        numbers.append(i**3)\n",
    "        \n",
    "print(\"the odd numbers are\",numbers)"
   ]
  },
  {
   "cell_type": "code",
   "execution_count": 16,
   "id": "840f4fe1",
   "metadata": {},
   "outputs": [
    {
     "name": "stdout",
     "output_type": "stream",
     "text": [
      "1 4\n",
      "1 5\n",
      "2 4\n",
      "2 5\n"
     ]
    }
   ],
   "source": [
    "#nested for loop\n",
    "x = [1, 2]\n",
    "y = [4, 5]\n",
    "  \n",
    "for i in x:\n",
    "  for j in y:\n",
    "    print(i, j)"
   ]
  },
  {
   "cell_type": "code",
   "execution_count": 19,
   "id": "255711c5",
   "metadata": {},
   "outputs": [
    {
     "name": "stdout",
     "output_type": "stream",
     "text": [
      "2 * 1 = 2\n",
      "2 * 2 = 4\n",
      "2 * 3 = 6\n",
      "2 * 4 = 8\n",
      "2 * 5 = 10\n",
      "2 * 6 = 12\n",
      "2 * 7 = 14\n",
      "2 * 8 = 16\n",
      "2 * 9 = 18\n",
      "2 * 10 = 20\n",
      "\n"
     ]
    }
   ],
   "source": [
    "for i in range(2,3):\n",
    "  \n",
    "    # Printing inside the outer loop\n",
    "    # Running inner loop from 1 to 10\n",
    "    for j in range(1, 11):\n",
    "  \n",
    "        # Printing inside the inner loop\n",
    "        print(i, \"*\", j, \"=\", i*j)\n",
    "    # Printing inside the outer loop\n",
    "    print()"
   ]
  },
  {
   "cell_type": "markdown",
   "id": "5a733253",
   "metadata": {},
   "source": [
    "# While Loop"
   ]
  },
  {
   "cell_type": "code",
   "execution_count": 28,
   "id": "ee5069dd",
   "metadata": {},
   "outputs": [
    {
     "name": "stdout",
     "output_type": "stream",
     "text": [
      "1\n",
      "2\n",
      "3\n",
      "4\n",
      "5\n"
     ]
    }
   ],
   "source": [
    "i = 1\n",
    "while i < 6:\n",
    "  print(i)\n",
    "  i += 1"
   ]
  },
  {
   "cell_type": "code",
   "execution_count": 29,
   "id": "89544261",
   "metadata": {},
   "outputs": [
    {
     "name": "stdout",
     "output_type": "stream",
     "text": [
      "1\n",
      "2\n",
      "3\n",
      "4\n",
      "5\n",
      "i is no longer less than 6\n"
     ]
    }
   ],
   "source": [
    "i = 1\n",
    "while i < 6:\n",
    "  print(i)\n",
    "  i += 1\n",
    "else:\n",
    "  print(\"i is no longer less than 6\")"
   ]
  },
  {
   "cell_type": "code",
   "execution_count": null,
   "id": "8566fdbf",
   "metadata": {},
   "outputs": [],
   "source": [
    "age = 32\n",
    "\n",
    "# the test condition is always True\n",
    "while age > 18:\n",
    "    print('You can vote')"
   ]
  },
  {
   "cell_type": "code",
   "execution_count": 30,
   "id": "d2a697a9",
   "metadata": {},
   "outputs": [
    {
     "name": "stdout",
     "output_type": "stream",
     "text": [
      "1\n",
      "2\n",
      "3\n"
     ]
    }
   ],
   "source": [
    "#break\n",
    "i = 1\n",
    "while i < 6:\n",
    "  print(i)\n",
    "  if i == 3:\n",
    "    break\n",
    "  i += 1"
   ]
  },
  {
   "cell_type": "code",
   "execution_count": 31,
   "id": "e1daf885",
   "metadata": {},
   "outputs": [
    {
     "name": "stdout",
     "output_type": "stream",
     "text": [
      "1\n",
      "2\n",
      "4\n",
      "5\n",
      "6\n"
     ]
    }
   ],
   "source": [
    "#continue\n",
    "i = 0\n",
    "while i < 6:\n",
    "  i += 1\n",
    "  if i == 3:\n",
    "    continue\n",
    "  print(i)"
   ]
  },
  {
   "cell_type": "code",
   "execution_count": null,
   "id": "d9cbeba6",
   "metadata": {},
   "outputs": [],
   "source": []
  }
 ],
 "metadata": {
  "kernelspec": {
   "display_name": "Python 3 (ipykernel)",
   "language": "python",
   "name": "python3"
  },
  "language_info": {
   "codemirror_mode": {
    "name": "ipython",
    "version": 3
   },
   "file_extension": ".py",
   "mimetype": "text/x-python",
   "name": "python",
   "nbconvert_exporter": "python",
   "pygments_lexer": "ipython3",
   "version": "3.10.6"
  }
 },
 "nbformat": 4,
 "nbformat_minor": 5
}
