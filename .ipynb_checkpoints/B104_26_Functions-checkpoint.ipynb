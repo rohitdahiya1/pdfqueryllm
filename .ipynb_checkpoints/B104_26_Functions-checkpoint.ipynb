{
 "cells": [
  {
   "cell_type": "markdown",
   "id": "3604cb37",
   "metadata": {},
   "source": [
    "# Built-in Functions"
   ]
  },
  {
   "cell_type": "code",
   "execution_count": 1,
   "id": "3b0e60c4",
   "metadata": {},
   "outputs": [
    {
     "name": "stdout",
     "output_type": "stream",
     "text": [
      "rohit\n",
      "First name is rohit\n"
     ]
    }
   ],
   "source": [
    "fname=input()\n",
    "print(\"First name is\",fname)"
   ]
  },
  {
   "cell_type": "code",
   "execution_count": 2,
   "id": "71051068",
   "metadata": {},
   "outputs": [
    {
     "name": "stdout",
     "output_type": "stream",
     "text": [
      "Enter name here:rohit\n",
      "Welcome to the class rohit\n"
     ]
    }
   ],
   "source": [
    "fname = input('Enter name here:')\n",
    "print('Welcome to the class ' + fname)"
   ]
  },
  {
   "cell_type": "code",
   "execution_count": 3,
   "id": "0c003417",
   "metadata": {},
   "outputs": [
    {
     "name": "stdout",
     "output_type": "stream",
     "text": [
      "please enter the value of x: \n"
     ]
    },
    {
     "ename": "TypeError",
     "evalue": "can only concatenate str (not \"int\") to str",
     "output_type": "error",
     "traceback": [
      "\u001b[0;31m---------------------------------------------------------------------------\u001b[0m",
      "\u001b[0;31mTypeError\u001b[0m                                 Traceback (most recent call last)",
      "Cell \u001b[0;32mIn[3], line 2\u001b[0m\n\u001b[1;32m      1\u001b[0m x\u001b[38;5;241m=\u001b[39m\u001b[38;5;28minput\u001b[39m(\u001b[38;5;124m\"\u001b[39m\u001b[38;5;124mplease enter the value of x: \u001b[39m\u001b[38;5;124m\"\u001b[39m)\n\u001b[0;32m----> 2\u001b[0m y\u001b[38;5;241m=\u001b[39m\u001b[43mx\u001b[49m\u001b[38;5;241;43m+\u001b[39;49m\u001b[38;5;241;43m10\u001b[39;49m\n\u001b[1;32m      3\u001b[0m \u001b[38;5;28mprint\u001b[39m(y)\n",
      "\u001b[0;31mTypeError\u001b[0m: can only concatenate str (not \"int\") to str"
     ]
    }
   ],
   "source": [
    "x=input(\"please enter the value of x: \")\n",
    "y=x+10\n",
    "print(y)"
   ]
  },
  {
   "cell_type": "code",
   "execution_count": 4,
   "id": "a76a899f",
   "metadata": {},
   "outputs": [
    {
     "name": "stdout",
     "output_type": "stream",
     "text": [
      "please enter the value of x: 10\n",
      "the value of y is 15\n"
     ]
    }
   ],
   "source": [
    "x=int(input(\"please enter the value of x: \"))\n",
    "y=x+5\n",
    "print(\"the value of y is\",y)"
   ]
  },
  {
   "cell_type": "code",
   "execution_count": null,
   "id": "32352d60",
   "metadata": {},
   "outputs": [],
   "source": [
    "print('Welcome to the class ' + fname)"
   ]
  },
  {
   "cell_type": "code",
   "execution_count": null,
   "id": "3b367b41",
   "metadata": {},
   "outputs": [],
   "source": [
    "sum([1,2,3])\n"
   ]
  },
  {
   "cell_type": "code",
   "execution_count": null,
   "id": "28d96091",
   "metadata": {},
   "outputs": [],
   "source": [
    "len([4,5,6,7])"
   ]
  },
  {
   "cell_type": "code",
   "execution_count": 5,
   "id": "327c7fad",
   "metadata": {},
   "outputs": [
    {
     "name": "stdout",
     "output_type": "stream",
     "text": [
      "81.0\n"
     ]
    }
   ],
   "source": [
    "import math\n",
    "print(math.pow(3,4))"
   ]
  },
  {
   "cell_type": "code",
   "execution_count": 6,
   "id": "f674377a",
   "metadata": {},
   "outputs": [
    {
     "name": "stdout",
     "output_type": "stream",
     "text": [
      "3.0\n"
     ]
    }
   ],
   "source": [
    "# importing math module\n",
    "import math\n",
    "\n",
    "# python call function and built-in function\n",
    "print(math.sqrt(9))"
   ]
  },
  {
   "cell_type": "markdown",
   "id": "8c25764d",
   "metadata": {},
   "source": [
    "# User-defined Functions"
   ]
  },
  {
   "cell_type": "code",
   "execution_count": 7,
   "id": "eef16a41",
   "metadata": {},
   "outputs": [],
   "source": [
    "#function definition\n",
    "def welcomeMsg(fname): \n",
    "    print('Hi ' + fname )\n",
    "    \n",
    "#print('Welcome to the class') # definition of the function"
   ]
  },
  {
   "cell_type": "code",
   "execution_count": 8,
   "id": "e3952fd4",
   "metadata": {},
   "outputs": [
    {
     "name": "stdout",
     "output_type": "stream",
     "text": [
      "Hi Praneeth\n"
     ]
    }
   ],
   "source": [
    "#calling the function\n",
    "welcomeMsg('Praneeth')"
   ]
  },
  {
   "cell_type": "code",
   "execution_count": 9,
   "id": "d3d9553b",
   "metadata": {},
   "outputs": [],
   "source": [
    "def mathfunc(x,y):\n",
    "    z = 2*(x+y)\n",
    "    return z"
   ]
  },
  {
   "cell_type": "code",
   "execution_count": 10,
   "id": "c9eb74f3",
   "metadata": {},
   "outputs": [
    {
     "data": {
      "text/plain": [
       "18"
      ]
     },
     "execution_count": 10,
     "metadata": {},
     "output_type": "execute_result"
    }
   ],
   "source": [
    "mathfunc(4,5)"
   ]
  },
  {
   "cell_type": "code",
   "execution_count": 11,
   "id": "327e5d8a",
   "metadata": {},
   "outputs": [
    {
     "data": {
      "text/plain": [
       "30"
      ]
     },
     "execution_count": 11,
     "metadata": {},
     "output_type": "execute_result"
    }
   ],
   "source": [
    "a = 5\n",
    "\n",
    "mathfunc(a,a*2)"
   ]
  },
  {
   "cell_type": "code",
   "execution_count": null,
   "id": "fc56cea7",
   "metadata": {},
   "outputs": [],
   "source": [
    "b = 6\n",
    "\n",
    "mathfunc(a,b)"
   ]
  },
  {
   "cell_type": "markdown",
   "id": "040efdca",
   "metadata": {},
   "source": [
    "### Functions `def`\n",
    "\n",
    "### Why Use Functions?\n",
    "\n",
    "Functions are a piece of code to carry out a specified task. Functions are self contained and can be called when needed. Functions make the code more efficient by calling a specific set if codes when needed, often by passing a parameter into it."
   ]
  },
  {
   "cell_type": "code",
   "execution_count": 12,
   "id": "b77b6642",
   "metadata": {},
   "outputs": [],
   "source": [
    "def sign(anyInteger):\n",
    "    if anyInteger > 0:\n",
    "        return 'positive'\n",
    "    elif anyInteger < 0:\n",
    "        return 'negative'\n",
    "    else:\n",
    "        return 'zero has no sign'"
   ]
  },
  {
   "cell_type": "code",
   "execution_count": 15,
   "id": "21d805a6",
   "metadata": {},
   "outputs": [
    {
     "data": {
      "text/plain": [
       "'positive'"
      ]
     },
     "execution_count": 15,
     "metadata": {},
     "output_type": "execute_result"
    }
   ],
   "source": [
    "sign(50)"
   ]
  },
  {
   "cell_type": "code",
   "execution_count": 16,
   "id": "574dbe01",
   "metadata": {},
   "outputs": [],
   "source": [
    "# create a function to tell if a number is odd or even\n",
    "def evenOdd( x ):\n",
    "    if (x % 2 == 0):\n",
    "        print(\"even\")\n",
    "    else:\n",
    "        print(\"odd\")"
   ]
  },
  {
   "cell_type": "code",
   "execution_count": 18,
   "id": "4d16b06f",
   "metadata": {},
   "outputs": [
    {
     "name": "stdout",
     "output_type": "stream",
     "text": [
      "odd\n"
     ]
    }
   ],
   "source": [
    "evenOdd(7)"
   ]
  },
  {
   "cell_type": "code",
   "execution_count": 19,
   "id": "36182971",
   "metadata": {},
   "outputs": [
    {
     "name": "stdout",
     "output_type": "stream",
     "text": [
      "[-6, -4, -2, 0, 2, 4]\n"
     ]
    }
   ],
   "source": [
    "L = list(range(-6,5,2))\n",
    "print(L)"
   ]
  },
  {
   "cell_type": "code",
   "execution_count": 20,
   "id": "06df8b3a",
   "metadata": {},
   "outputs": [
    {
     "name": "stdout",
     "output_type": "stream",
     "text": [
      "negative\n",
      "negative\n",
      "negative\n",
      "zero has no sign\n",
      "positive\n",
      "positive\n"
     ]
    }
   ],
   "source": [
    "for i in L:\n",
    "    print(sign(i))"
   ]
  },
  {
   "cell_type": "markdown",
   "id": "3fff2994",
   "metadata": {},
   "source": [
    "#### Let us understand difference between \"return\" statement and \"print\" statement."
   ]
  },
  {
   "cell_type": "code",
   "execution_count": 21,
   "id": "6ca45e07",
   "metadata": {},
   "outputs": [],
   "source": [
    "def myReturn(x,y):\n",
    "    x + y\n",
    "    return x+y"
   ]
  },
  {
   "cell_type": "code",
   "execution_count": 22,
   "id": "b0a3acdb",
   "metadata": {},
   "outputs": [
    {
     "data": {
      "text/plain": [
       "9"
      ]
     },
     "execution_count": 22,
     "metadata": {},
     "output_type": "execute_result"
    }
   ],
   "source": [
    "myReturn(4,5)"
   ]
  },
  {
   "cell_type": "code",
   "execution_count": 23,
   "id": "27de1f1a",
   "metadata": {},
   "outputs": [],
   "source": [
    "def myPrint(x,y):\n",
    "    x + y\n",
    "    print(x+y)"
   ]
  },
  {
   "cell_type": "code",
   "execution_count": 24,
   "id": "a8e1c551",
   "metadata": {},
   "outputs": [
    {
     "name": "stdout",
     "output_type": "stream",
     "text": [
      "30\n"
     ]
    }
   ],
   "source": [
    "myPrint(10,20)"
   ]
  },
  {
   "cell_type": "markdown",
   "id": "b7ac2e42",
   "metadata": {},
   "source": [
    "Then what's the difference between print and return."
   ]
  },
  {
   "cell_type": "code",
   "execution_count": 25,
   "id": "d2d0b9a0",
   "metadata": {},
   "outputs": [],
   "source": [
    "def myReturn(x,y):\n",
    "    x + y\n",
    "    return x+y"
   ]
  },
  {
   "cell_type": "code",
   "execution_count": 26,
   "id": "c6d7c536",
   "metadata": {},
   "outputs": [],
   "source": [
    "z=myReturn(4,5)"
   ]
  },
  {
   "cell_type": "code",
   "execution_count": 27,
   "id": "211633bc",
   "metadata": {},
   "outputs": [
    {
     "name": "stdout",
     "output_type": "stream",
     "text": [
      "9\n"
     ]
    }
   ],
   "source": [
    "print(z)"
   ]
  },
  {
   "cell_type": "code",
   "execution_count": 28,
   "id": "2b74510d",
   "metadata": {},
   "outputs": [],
   "source": [
    "def myPrint(x,y):\n",
    "    x + y\n",
    "    print(x+y)"
   ]
  },
  {
   "cell_type": "code",
   "execution_count": 29,
   "id": "fc51ac59",
   "metadata": {},
   "outputs": [
    {
     "name": "stdout",
     "output_type": "stream",
     "text": [
      "40\n"
     ]
    }
   ],
   "source": [
    "m=myPrint(10,30)"
   ]
  },
  {
   "cell_type": "code",
   "execution_count": 30,
   "id": "b0cd968f",
   "metadata": {},
   "outputs": [
    {
     "name": "stdout",
     "output_type": "stream",
     "text": [
      "None\n"
     ]
    }
   ],
   "source": [
    "print(m)"
   ]
  },
  {
   "cell_type": "markdown",
   "id": "48567a95",
   "metadata": {},
   "source": [
    "Returning Multiple variables"
   ]
  },
  {
   "cell_type": "code",
   "execution_count": 31,
   "id": "0ce405a9",
   "metadata": {},
   "outputs": [],
   "source": [
    "def myFunc(x,y):\n",
    "    a = x+y\n",
    "    b = x-y\n",
    "    return a,b"
   ]
  },
  {
   "cell_type": "code",
   "execution_count": 32,
   "id": "75a349d2",
   "metadata": {},
   "outputs": [
    {
     "data": {
      "text/plain": [
       "(7, -1)"
      ]
     },
     "execution_count": 32,
     "metadata": {},
     "output_type": "execute_result"
    }
   ],
   "source": [
    "myFunc(3,4)"
   ]
  },
  {
   "cell_type": "markdown",
   "id": "a37ca7e8",
   "metadata": {},
   "source": [
    "Statements after return will never be executed. Return is the last statement of a function"
   ]
  },
  {
   "cell_type": "code",
   "execution_count": 33,
   "id": "1238e85f",
   "metadata": {},
   "outputs": [],
   "source": [
    "def addition(x,y):\n",
    "    z=x+y\n",
    "    print(\"the value of z is\",z)\n",
    "    return z\n",
    "    \n",
    "\n"
   ]
  },
  {
   "cell_type": "code",
   "execution_count": 34,
   "id": "8c6ab297",
   "metadata": {},
   "outputs": [
    {
     "name": "stdout",
     "output_type": "stream",
     "text": [
      "the value of z is 9\n"
     ]
    },
    {
     "data": {
      "text/plain": [
       "9"
      ]
     },
     "execution_count": 34,
     "metadata": {},
     "output_type": "execute_result"
    }
   ],
   "source": [
    "addition(4,5)"
   ]
  },
  {
   "cell_type": "code",
   "execution_count": 35,
   "id": "0568bab6",
   "metadata": {},
   "outputs": [],
   "source": [
    "def addition(x,y):\n",
    "    z=x+y\n",
    "    return z\n",
    "    print(\"the value of z is\",z)"
   ]
  },
  {
   "cell_type": "code",
   "execution_count": 36,
   "id": "f2817e64",
   "metadata": {},
   "outputs": [
    {
     "data": {
      "text/plain": [
       "7"
      ]
     },
     "execution_count": 36,
     "metadata": {},
     "output_type": "execute_result"
    }
   ],
   "source": [
    "addition(3,4)"
   ]
  },
  {
   "cell_type": "markdown",
   "id": "bf398bd9",
   "metadata": {},
   "source": [
    "#### Understanding return\n",
    "\n",
    "* Function bodies can contain __one__ or __more__ `return` statement. \n",
    "    * They can be situated __anywhere__ in the function body. \n",
    "* A __return__ statement __ends__ the __execution__ of the __function call__ and __\"returns\"__ the `result`, i.e. the __value of the expression__ following the __return__ keyword, to the __caller__. \n",
    "    * If the return statement is without an expression, the special value `None` is returned. \n",
    "* If there is __no return__ statement in the __function code__, then the __function ends__, when the __control flow__ reaches the __end__ of the function body and the value `None` will be returned.\n",
    "* __Return multiple values__: A function can return exactly one value, or we should better say one object. \n",
    "    * An object can be a numerical value, like an integer or a float and it can also be e.g. a list or a dictionary. \n",
    "    * So, if we have to return, for example, 3 integer values, we can return a __list__ or a __tuple__ with these three integer values. That is, we can indirectly return multiple values."
   ]
  },
  {
   "cell_type": "markdown",
   "id": "40bfcc62",
   "metadata": {},
   "source": [
    "#### Local and Global Variables in Functions\n",
    "\n",
    "Variable names are by default local to the function, in which they get defined."
   ]
  },
  {
   "cell_type": "code",
   "execution_count": 1,
   "id": "875afc37",
   "metadata": {},
   "outputs": [
    {
     "name": "stdout",
     "output_type": "stream",
     "text": [
      "python1\n"
     ]
    }
   ],
   "source": [
    "def f(): \n",
    "    prog=\"python1\" \n",
    "    print(prog)\n",
    "  \n",
    "f()"
   ]
  },
  {
   "cell_type": "code",
   "execution_count": 2,
   "id": "fa8fb32d",
   "metadata": {},
   "outputs": [
    {
     "name": "stdout",
     "output_type": "stream",
     "text": [
      "python2\n"
     ]
    }
   ],
   "source": [
    "def f(): \n",
    "    print(prog1)\n",
    "prog1=\"python2\"   \n",
    "f()"
   ]
  },
  {
   "cell_type": "code",
   "execution_count": 3,
   "id": "c14b3288",
   "metadata": {},
   "outputs": [
    {
     "ename": "NameError",
     "evalue": "name 'prog3' is not defined",
     "output_type": "error",
     "traceback": [
      "\u001b[0;31m---------------------------------------------------------------------------\u001b[0m",
      "\u001b[0;31mNameError\u001b[0m                                 Traceback (most recent call last)",
      "Cell \u001b[0;32mIn[3], line 3\u001b[0m\n\u001b[1;32m      1\u001b[0m \u001b[38;5;28;01mdef\u001b[39;00m \u001b[38;5;21mf\u001b[39m(): \n\u001b[1;32m      2\u001b[0m     \u001b[38;5;28mprint\u001b[39m(prog3)   \n\u001b[0;32m----> 3\u001b[0m \u001b[43mf\u001b[49m\u001b[43m(\u001b[49m\u001b[43m)\u001b[49m\n\u001b[1;32m      4\u001b[0m prog3\u001b[38;5;241m=\u001b[39m\u001b[38;5;124m\"\u001b[39m\u001b[38;5;124mC++\u001b[39m\u001b[38;5;124m\"\u001b[39m\n",
      "Cell \u001b[0;32mIn[3], line 2\u001b[0m, in \u001b[0;36mf\u001b[0;34m()\u001b[0m\n\u001b[1;32m      1\u001b[0m \u001b[38;5;28;01mdef\u001b[39;00m \u001b[38;5;21mf\u001b[39m(): \n\u001b[0;32m----> 2\u001b[0m     \u001b[38;5;28mprint\u001b[39m(\u001b[43mprog3\u001b[49m)\n",
      "\u001b[0;31mNameError\u001b[0m: name 'prog3' is not defined"
     ]
    }
   ],
   "source": [
    "def f(): \n",
    "    print(prog3)   \n",
    "f()\n",
    "prog3=\"C++\""
   ]
  },
  {
   "cell_type": "code",
   "execution_count": 4,
   "id": "ec18927c",
   "metadata": {},
   "outputs": [
    {
     "name": "stdout",
     "output_type": "stream",
     "text": [
      "C++\n"
     ]
    }
   ],
   "source": [
    "prog4=\"C++\"\n",
    "def f(): \n",
    "    print(prog4)   \n",
    "f()\n"
   ]
  },
  {
   "cell_type": "code",
   "execution_count": 5,
   "id": "341931e9",
   "metadata": {},
   "outputs": [
    {
     "name": "stdout",
     "output_type": "stream",
     "text": [
      "Python\n"
     ]
    }
   ],
   "source": [
    "prog5=\"C++\"\n",
    "def f(): \n",
    "    prog5 = \"Python\"\n",
    "    print(prog5)\n",
    "    \n",
    "    \n",
    "f()"
   ]
  },
  {
   "cell_type": "code",
   "execution_count": 6,
   "id": "8794471b",
   "metadata": {},
   "outputs": [
    {
     "data": {
      "text/plain": [
       "'C++'"
      ]
     },
     "execution_count": 6,
     "metadata": {},
     "output_type": "execute_result"
    }
   ],
   "source": [
    "#we can't access local variable outside the function\n",
    "prog5"
   ]
  },
  {
   "cell_type": "code",
   "execution_count": 7,
   "id": "de5b9741",
   "metadata": {},
   "outputs": [
    {
     "name": "stdout",
     "output_type": "stream",
     "text": [
      "PGP Live\n",
      "PGP\n"
     ]
    }
   ],
   "source": [
    "def f(): \n",
    "    prog = \"PGP Live\"\n",
    "    print(prog)\n",
    "\n",
    "\n",
    "prog = \"PGP\"\n",
    "\n",
    "f()\n",
    "\n",
    "print(prog)"
   ]
  },
  {
   "cell_type": "code",
   "execution_count": 8,
   "id": "97387e1f",
   "metadata": {},
   "outputs": [
    {
     "name": "stdout",
     "output_type": "stream",
     "text": [
      "5\n"
     ]
    },
    {
     "ename": "NameError",
     "evalue": "name 'c' is not defined",
     "output_type": "error",
     "traceback": [
      "\u001b[0;31m---------------------------------------------------------------------------\u001b[0m",
      "\u001b[0;31mNameError\u001b[0m                                 Traceback (most recent call last)",
      "Cell \u001b[0;32mIn[8], line 5\u001b[0m\n\u001b[1;32m      3\u001b[0m     \u001b[38;5;28;01mreturn\u001b[39;00m c\n\u001b[1;32m      4\u001b[0m \u001b[38;5;28mprint\u001b[39m(f(\u001b[38;5;241m2\u001b[39m,\u001b[38;5;241m3\u001b[39m))\n\u001b[0;32m----> 5\u001b[0m \u001b[38;5;28mprint\u001b[39m(\u001b[43mc\u001b[49m\u001b[38;5;241m+\u001b[39m\u001b[38;5;241m5\u001b[39m)\n",
      "\u001b[0;31mNameError\u001b[0m: name 'c' is not defined"
     ]
    }
   ],
   "source": [
    "def f(a,b):\n",
    "    c=a+b\n",
    "    return c\n",
    "print(f(2,3))\n",
    "print(c+5)\n",
    "    "
   ]
  },
  {
   "cell_type": "code",
   "execution_count": 9,
   "id": "f7525a0f",
   "metadata": {},
   "outputs": [
    {
     "name": "stdout",
     "output_type": "stream",
     "text": [
      "5\n",
      "10\n"
     ]
    }
   ],
   "source": [
    "def f(a,b):\n",
    "    global c\n",
    "    c=a+b\n",
    "    return c\n",
    "print(f(2,3))\n",
    "print(c+5)"
   ]
  },
  {
   "cell_type": "markdown",
   "id": "c79ebf20",
   "metadata": {},
   "source": [
    "* Default Arguments\n",
    "* Positional Arguments and Keywords Arguments"
   ]
  },
  {
   "cell_type": "code",
   "execution_count": null,
   "id": "093c046a",
   "metadata": {},
   "outputs": [],
   "source": [
    "def addition(x,y=10):\n",
    "    z=x+y\n",
    "    print(z)"
   ]
  },
  {
   "cell_type": "code",
   "execution_count": null,
   "id": "5fca8bcf",
   "metadata": {},
   "outputs": [],
   "source": [
    "addition(15)"
   ]
  },
  {
   "cell_type": "code",
   "execution_count": null,
   "id": "763e287e",
   "metadata": {},
   "outputs": [],
   "source": [
    "addition(20,30)"
   ]
  },
  {
   "cell_type": "code",
   "execution_count": null,
   "id": "8e59e158",
   "metadata": {},
   "outputs": [],
   "source": [
    "addition(y=4,x=20)"
   ]
  },
  {
   "cell_type": "code",
   "execution_count": null,
   "id": "a8fb5af8",
   "metadata": {},
   "outputs": [],
   "source": [
    "addition(40,y=30)"
   ]
  },
  {
   "cell_type": "code",
   "execution_count": null,
   "id": "a39a8404",
   "metadata": {},
   "outputs": [],
   "source": [
    "addition(x=12,7)"
   ]
  },
  {
   "cell_type": "markdown",
   "id": "5cf69200",
   "metadata": {},
   "source": [
    "#### Python Docstrings\n",
    "\n",
    "\n",
    "* Python documentation strings (or __docstrings__) provide a convenient way of `associating` __documentation__ with Python __modules__, __functions__, __classes__, and __methods__.\n",
    "* The docstrings are declared using `“””triple double quotes”””` just below the class, method or function declaration. All functions should have a docstring.\n",
    "* The __docstrings__ can be __accessed__ using the `__doc__` method or using the `help` function."
   ]
  },
  {
   "cell_type": "code",
   "execution_count": 10,
   "id": "f3020e27",
   "metadata": {},
   "outputs": [],
   "source": [
    "def sign(anyInteger):\n",
    "    \"\"\"This is a function that takes a number and gives the sign of the number\"\"\"\n",
    "    \n",
    "    if anyInteger > 0:\n",
    "        return 'positive'\n",
    "    elif anyInteger < 0:\n",
    "        return 'negative'\n",
    "    else:\n",
    "        return 'zero has no sign'\n",
    "    "
   ]
  },
  {
   "cell_type": "code",
   "execution_count": 11,
   "id": "83a330ca",
   "metadata": {},
   "outputs": [
    {
     "name": "stdout",
     "output_type": "stream",
     "text": [
      "Help on function sign in module __main__:\n",
      "\n",
      "sign(anyInteger)\n",
      "    This is a function that takes a number and gives the sign of the number\n",
      "\n"
     ]
    }
   ],
   "source": [
    "help(sign)"
   ]
  },
  {
   "cell_type": "code",
   "execution_count": 12,
   "id": "79c968d9",
   "metadata": {},
   "outputs": [
    {
     "data": {
      "text/plain": [
       "'This is a function that takes a number and gives the sign of the number'"
      ]
     },
     "execution_count": 12,
     "metadata": {},
     "output_type": "execute_result"
    }
   ],
   "source": [
    "sign.__doc__"
   ]
  },
  {
   "cell_type": "code",
   "execution_count": null,
   "id": "6060980e",
   "metadata": {},
   "outputs": [],
   "source": [
    "def welcomeMsg(fname): \n",
    "    print('Hi ' + fname )\n",
    "    print('Welcome to the class')"
   ]
  },
  {
   "cell_type": "markdown",
   "id": "51762619",
   "metadata": {},
   "source": [
    "*args and **kwargs \n",
    "\n",
    "#### Variable length argument.\n",
    "\n",
    "In Python, variable number of arguments can be passed to a function using special symbols. \n",
    "\n",
    "* `*args` : To pass variable number of non keyword arguments \n",
    "* `**kwargs` : To pass variable number of keyword arguments\n",
    "    \n",
    "Note: __args__ and __kwargs__ are just the names i.e. __other name__ can also be __given__ like `*nkvar`, `**kvar`"
   ]
  },
  {
   "cell_type": "code",
   "execution_count": 13,
   "id": "f50ec446",
   "metadata": {},
   "outputs": [],
   "source": [
    "def welcomeMsg(*fname):\n",
    "    for evry_name in fname:\n",
    "        print('Welcome to the class '+evry_name)"
   ]
  },
  {
   "cell_type": "code",
   "execution_count": 14,
   "id": "c0116d33",
   "metadata": {},
   "outputs": [
    {
     "name": "stdout",
     "output_type": "stream",
     "text": [
      "Welcome to the class Alia\n",
      "Welcome to the class Bahubali\n"
     ]
    }
   ],
   "source": [
    "welcomeMsg('Alia','Bahubali')"
   ]
  },
  {
   "cell_type": "code",
   "execution_count": 34,
   "id": "a552e600",
   "metadata": {},
   "outputs": [],
   "source": [
    "def welcomeMsg(**fNames):\n",
    "    for arg in fNames.values():\n",
    "        print('Welcome to the class ' + arg)"
   ]
  },
  {
   "cell_type": "code",
   "execution_count": 35,
   "id": "51478c2c",
   "metadata": {},
   "outputs": [
    {
     "name": "stdout",
     "output_type": "stream",
     "text": [
      "Welcome to the class Alia\n",
      "Welcome to the class Ehzaan\n",
      "Welcome to the class D'Souza\n"
     ]
    }
   ],
   "source": [
    "welcomeMsg(Name1 = 'Alia',Name2 = 'Ehzaan',Name3 = \"D'Souza\")"
   ]
  },
  {
   "cell_type": "code",
   "execution_count": 17,
   "id": "df2fee19",
   "metadata": {},
   "outputs": [],
   "source": [
    "def welcome_message(msg1,msg2,**kwargs):\n",
    "    for arg in kwargs.values():\n",
    "        print(msg1+msg2+arg)"
   ]
  },
  {
   "cell_type": "code",
   "execution_count": 18,
   "id": "e1848711",
   "metadata": {},
   "outputs": [
    {
     "name": "stdout",
     "output_type": "stream",
     "text": [
      "You make the class better D'souza\n",
      "You make the class better Raghav\n"
     ]
    }
   ],
   "source": [
    "welcome_message('You make ', 'the class better ', Name1 = \"D'souza\", Name2 = 'Raghav')"
   ]
  },
  {
   "cell_type": "markdown",
   "id": "a701b239",
   "metadata": {},
   "source": [
    "# Lambda Function"
   ]
  },
  {
   "cell_type": "markdown",
   "id": "5d8d4cc6",
   "metadata": {},
   "source": [
    "#### Anonymous functions - lambda functions\n",
    "\n",
    "The `lambda operator` or `lambda function` is a way to create small `anonymous functions`, i.e. functions without a name. These functions are throw-away functions, i.e. they are just needed where they have been created"
   ]
  },
  {
   "cell_type": "code",
   "execution_count": 19,
   "id": "0e1cbd1e",
   "metadata": {},
   "outputs": [],
   "source": [
    "f = lambda x,y : x + y"
   ]
  },
  {
   "cell_type": "code",
   "execution_count": 20,
   "id": "af6e95f5",
   "metadata": {},
   "outputs": [
    {
     "data": {
      "text/plain": [
       "3"
      ]
     },
     "execution_count": 20,
     "metadata": {},
     "output_type": "execute_result"
    }
   ],
   "source": [
    "f(1,2)"
   ]
  },
  {
   "cell_type": "code",
   "execution_count": 21,
   "id": "6c3a1b35",
   "metadata": {},
   "outputs": [
    {
     "name": "stdout",
     "output_type": "stream",
     "text": [
      "13\n"
     ]
    }
   ],
   "source": [
    "x = lambda a, b, c : a + b + c\n",
    "print(x(5, 6, 2))"
   ]
  },
  {
   "cell_type": "code",
   "execution_count": 22,
   "id": "526e5ae8",
   "metadata": {},
   "outputs": [
    {
     "name": "stdout",
     "output_type": "stream",
     "text": [
      "Using function defined with `def` keyword, cube: 125\n",
      "Using lambda function, cube: 125\n"
     ]
    }
   ],
   "source": [
    "def cube(y):\n",
    "    return y*y*y\n",
    " \n",
    " \n",
    "lambda_cube = lambda y: y*y*y\n",
    " \n",
    " \n",
    "# using def keyword\n",
    "print(\"Using function defined with `def` keyword, cube:\", cube(5))\n",
    " \n",
    "# using the lambda function\n",
    "print(\"Using lambda function, cube:\", lambda_cube(5))"
   ]
  },
  {
   "cell_type": "code",
   "execution_count": 23,
   "id": "76b72930",
   "metadata": {},
   "outputs": [
    {
     "name": "stdout",
     "output_type": "stream",
     "text": [
      "HCETILISAE\n"
     ]
    }
   ],
   "source": [
    "str1 = 'Easilitech'\n",
    " \n",
    "# lambda returns a function object\n",
    "rev_upper = lambda string: string.upper()[::-1]\n",
    "print(rev_upper(str1))"
   ]
  },
  {
   "cell_type": "code",
   "execution_count": 24,
   "id": "dbfe7274",
   "metadata": {},
   "outputs": [
    {
     "name": "stdout",
     "output_type": "stream",
     "text": [
      "2\n"
     ]
    }
   ],
   "source": [
    "Max = lambda a, b : a if(a > b) else b\n",
    " \n",
    "print(Max(1, 2))"
   ]
  },
  {
   "cell_type": "markdown",
   "id": "68279997",
   "metadata": {},
   "source": [
    "# Lambda function with filter()"
   ]
  },
  {
   "cell_type": "code",
   "execution_count": 26,
   "id": "911bd335",
   "metadata": {},
   "outputs": [
    {
     "name": "stdout",
     "output_type": "stream",
     "text": [
      "[5, 7, 97, 77, 23, 73, 61]\n"
     ]
    }
   ],
   "source": [
    "li = [5, 7, 22, 97, 54, 62, 77, 23, 73, 61]\n",
    " \n",
    "final_list = list(filter(lambda x: (x % 2 != 0), li))\n",
    "print(final_list)"
   ]
  },
  {
   "cell_type": "code",
   "execution_count": 41,
   "id": "1f76ec36",
   "metadata": {},
   "outputs": [
    {
     "name": "stdout",
     "output_type": "stream",
     "text": [
      "[90, 59, 21, 60]\n"
     ]
    }
   ],
   "source": [
    "ages = [13, 90, 17, 59, 21, 60, 5]\n",
    " \n",
    "adults = list(filter(lambda age: age > 18, ages))\n",
    " \n",
    "print(adults)"
   ]
  },
  {
   "cell_type": "markdown",
   "id": "1e155360",
   "metadata": {},
   "source": [
    "# Lambda function with map()"
   ]
  },
  {
   "cell_type": "code",
   "execution_count": 28,
   "id": "a707d5fd",
   "metadata": {},
   "outputs": [
    {
     "name": "stdout",
     "output_type": "stream",
     "text": [
      "[10, 14, 44, 194, 108, 124, 154, 46, 146, 122]\n"
     ]
    }
   ],
   "source": [
    "li = [5, 7, 22, 97, 54, 62, 77, 23, 73, 61]\n",
    " \n",
    "final_list = list(map(lambda x: x*2, li))\n",
    "print(final_list)"
   ]
  },
  {
   "cell_type": "code",
   "execution_count": 44,
   "id": "1560105c",
   "metadata": {},
   "outputs": [
    {
     "name": "stdout",
     "output_type": "stream",
     "text": [
      "[15, 21, 44, 291, 108, 124, 231, 69, 219, 183]\n"
     ]
    }
   ],
   "source": [
    "li = [5, 7, 22, 97, 54, 62, 77, 23, 73, 61]\n",
    " \n",
    "final_list = list(map(lambda x: x*2 if x%2==0 else x*3, li))\n",
    "print(final_list)"
   ]
  },
  {
   "cell_type": "code",
   "execution_count": 29,
   "id": "ebdb8533",
   "metadata": {},
   "outputs": [
    {
     "name": "stdout",
     "output_type": "stream",
     "text": [
      "['DOG', 'CAT', 'PARROT', 'RABBIT']\n"
     ]
    }
   ],
   "source": [
    "animals = ['dog', 'cat', 'parrot', 'rabbit']\n",
    " \n",
    "\n",
    "uppered_animals = list(map(lambda animal: animal.upper(), animals))\n",
    " \n",
    "print(uppered_animals)"
   ]
  },
  {
   "cell_type": "markdown",
   "id": "da9e0ddd",
   "metadata": {},
   "source": [
    "# Lambda function with reduce()"
   ]
  },
  {
   "cell_type": "code",
   "execution_count": 30,
   "id": "3875cb60",
   "metadata": {},
   "outputs": [
    {
     "name": "stdout",
     "output_type": "stream",
     "text": [
      "193\n"
     ]
    }
   ],
   "source": [
    "from functools import reduce\n",
    "li = [5, 8, 10, 20, 50, 100]\n",
    "sum = reduce((lambda x, y: x + y), li)\n",
    "print(sum)"
   ]
  },
  {
   "cell_type": "code",
   "execution_count": 31,
   "id": "df416c58",
   "metadata": {},
   "outputs": [
    {
     "name": "stdout",
     "output_type": "stream",
     "text": [
      "40000000\n"
     ]
    }
   ],
   "source": [
    "from functools import reduce\n",
    "li = [5, 8, 10, 20, 50, 100]\n",
    "sum = reduce((lambda x, y: x* y), li)\n",
    "print(sum)"
   ]
  },
  {
   "cell_type": "code",
   "execution_count": null,
   "id": "f9d7e26a",
   "metadata": {},
   "outputs": [],
   "source": []
  }
 ],
 "metadata": {
  "kernelspec": {
   "display_name": "Python 3 (ipykernel)",
   "language": "python",
   "name": "python3"
  },
  "language_info": {
   "codemirror_mode": {
    "name": "ipython",
    "version": 3
   },
   "file_extension": ".py",
   "mimetype": "text/x-python",
   "name": "python",
   "nbconvert_exporter": "python",
   "pygments_lexer": "ipython3",
   "version": "3.10.6"
  }
 },
 "nbformat": 4,
 "nbformat_minor": 5
}
